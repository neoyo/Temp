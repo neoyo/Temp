{
 "cells": [
  {
   "cell_type": "markdown",
   "metadata": {
    "collapsed": true
   },
   "source": [
    " # Explorint xlrd Library"
   ]
  },
  {
   "cell_type": "markdown",
   "metadata": {},
   "source": [
    "Importing library, setting file path"
   ]
  },
  {
   "cell_type": "code",
   "execution_count": 1,
   "metadata": {
    "collapsed": true
   },
   "outputs": [],
   "source": [
    "import xlrd\n",
    "file_path = 'slr06.xls'"
   ]
  },
  {
   "cell_type": "markdown",
   "metadata": {},
   "source": [
    "## library Defination \n",
    "#### Opening the file by open_workbook() function Prototype\n",
    "\n",
    "xlrd.open_workbook(filename=None, logfile=<_io.TextIOWrapper name='<stdout>' mode='w' encoding='UTF-8'>, verbosity=0, use_mmap=1, file_contents=None, encoding_override=None, formatting_info=False, on_demand=False, ragged_rows=False)\n",
    "\n",
    "##### Parameters:\t\n",
    "* filename – The path to the spreadsheet file to be opened.\n",
    "* logfile – An open file to which messages and diagnostics are written.\n",
    "* verbosity – Increases the volume of trace material written to the logfile.\n",
    "* use_mmap – Whether to use the mmap module is determined heuristically. Use this arg to override the result.\n",
    "\n",
    "##### Current heuristic: mmap is used if it exists.\n",
    "\n",
    "*file_contents – A string or an mmap.mmap object or some other behave-alike object. If file_contents is supplied, filename will not be used, except (possibly) in messages.\n",
    "* encoding_override – Used to overcome missing or bad codepage information in older-version files. See Handling of Unicode.\n",
    "* formatting_info – The default is False, which saves memory. In this case, “Blank” cells, which are those with their own formatting information but no data, are treated as empty by ignoring the file’s BLANK and MULBLANK records. This cuts off any bottom or right “margin” of rows of empty or blank cells. Only cell_value() and cell_type() are available.\n",
    "\n",
    "When True, formatting information will be read from the spreadsheet file. This provides all cells, including empty and blank cells. Formatting information is available for each cell.\n",
    "\n",
    "Note that this will raise a NotImplementedError when used with an xlsx file.\n",
    "\n",
    "* on_demand – Governs whether sheets are all loaded initially or when demanded by the caller. See Loading worksheets on demand.\n",
    "\n",
    "* ragged_rows – The default of False means all rows are padded out with empty cells so that all rows have the same size as found in ncols.\n",
    "\n",
    "True means that there are no empty cells at the ends of rows. This can result in substantial memory savings if rows are of widely varying sizes. See also the row_len() method.\n",
    "\n",
    "##### Returns:\t\n",
    "An instance of the Book class.\n"
   ]
  },
  {
   "cell_type": "markdown",
   "metadata": {},
   "source": [
    "## In a brief all the functions and variable :\n",
    " excel <br />\n",
    " |<br />\n",
    " book  <br />\n",
    "&nbsp;&nbsp;&nbsp;&nbsp;&nbsp;    |__sheet\n",
    "\n",
    "#### function under book\n",
    "* book = xlrd.open_workbook()\n",
    "* book.sheet_names() -> returns array of string\n",
    "* book.sheet_by_index()\n",
    "* book.sheet_by_name()\n",
    "\n",
    "#### variable under book\n",
    "\n",
    "* book.nsheets\n",
    "\n",
    "#### function under sheet\n",
    "* sheet.cell()\n",
    "* sheet.row_slice()  -> return array of cell\n",
    "* sheet.row()\n",
    "* sheet.row_values()\n",
    "\n",
    "#### variable under sheet\n",
    "\n",
    "* sheet.nrows\n",
    "* sheet.ncols\n",
    "* sheet.cell().value\n",
    "\n"
   ]
  },
  {
   "cell_type": "markdown",
   "metadata": {},
   "source": [
    "### Easiest example\n",
    "\n",
    "Reading file from the source"
   ]
  },
  {
   "cell_type": "code",
   "execution_count": 2,
   "metadata": {
    "collapsed": false
   },
   "outputs": [],
   "source": [
    "book = xlrd.open_workbook(file_path)\n",
    "book1 = xlrd.open_workbook(file_path, on_demand = True) #loads only the current sheets to the memory\n",
    "book2 = xlrd.open_workbook(file_path, encoding_override=\"utf-8\")"
   ]
  },
  {
   "cell_type": "markdown",
   "metadata": {},
   "source": [
    "##### Print the number and name of sheet(tab) in excel. "
   ]
  },
  {
   "cell_type": "code",
   "execution_count": 3,
   "metadata": {
    "collapsed": false
   },
   "outputs": [
    {
     "name": "stdout",
     "output_type": "stream",
     "text": [
      "2\n",
      "['slr05', 'Sheet2']\n"
     ]
    }
   ],
   "source": [
    "print(book.nsheets)\n",
    "print(book.sheet_names())"
   ]
  },
  {
   "cell_type": "markdown",
   "metadata": {},
   "source": [
    "##### Select sample sheet"
   ]
  },
  {
   "cell_type": "code",
   "execution_count": 4,
   "metadata": {
    "collapsed": false
   },
   "outputs": [],
   "source": [
    "first_sheet = book.sheet_by_index(0)\n",
    "first_sheet = book.sheet_by_name(book.sheet_names()[0]) #another way\n",
    "second_sheet = book.sheet_by_index(1)\n",
    "\n",
    "# does not compile as there is only two sheet\n",
    "# third_sheet = book.sheet_by_index(0)\n"
   ]
  },
  {
   "cell_type": "markdown",
   "metadata": {},
   "source": [
    "##### select values from a row"
   ]
  },
  {
   "cell_type": "code",
   "execution_count": 5,
   "metadata": {
    "collapsed": false
   },
   "outputs": [
    {
     "name": "stdout",
     "output_type": "stream",
     "text": [
      "['X', 'Y', '', '', '', '', '', '', '', '', '', '', '']\n",
      "[6.2, 29.0, '', '', '', '', '', '', '', '', '', '', '']\n",
      "[9.5, 44.0, '', '', '', '', '', '', '', '', '', '', '']\n",
      "\n",
      "Accessing by for loop\n",
      "\n",
      "['X', 'Y', '', '', '', '', '', '', '', '', '', '', '']\n",
      "[6.2, 29.0, '', '', '', '', '', '', '', '', '', '', '']\n",
      "[9.5, 44.0, '', '', '', '', '', '', '', '', '', '', '']\n",
      "[10.5, 36.0, '', '', '', '', '', '', '', '', '', '', '']\n",
      "[7.7, 37.0, '', '', '', '', '', '', '', '', '', '', '']\n",
      "[8.6, 53.0, '', '', '', '', '', '', '', '', '', '', '']\n",
      "[34.1, 68.0, '', '', '', '', '', '', '', '', '', '', '']\n",
      "[11.0, 75.0, '', '', '', '', '', '', '', '', '', '', '']\n",
      "[6.9, 18.0, '', '', '', '', '', '', '', '', '', '', '']\n",
      "[7.3, 31.0, '', '', '', '', '', '', '', '', '', '', '']\n",
      "End of for loop\n",
      "\n",
      "(0 0) =  text:'X'\n",
      "(1 0) =  number:6.2\n",
      "(2 0) =  number:9.5\n",
      "\n",
      "(0 0) =  X\n",
      "(1 0) =  6.2\n",
      "(2 0) =  9.5\n"
     ]
    }
   ],
   "source": [
    "#--------------------------------\n",
    "\n",
    "print(first_sheet.row_values(0))\n",
    "print(first_sheet.row_values(1))\n",
    "print(first_sheet.row_values(2))\n",
    "\n",
    "#--------------------------------\n",
    "\n",
    "print(\"\\nAccessing by for loop\\n\")\n",
    "for i in range(0,10):\n",
    "    print(first_sheet.row_values(i))\n",
    "print(\"End of for loop\\n\")\n",
    "\n",
    "#--------------------------------\n",
    "\n",
    "cell = first_sheet.cell(0,0)\n",
    "cell1 = first_sheet.cell(1,0)\n",
    "cell2 = first_sheet.cell(2,0)\n",
    "print(\"(0 0) = \", cell ) ;\n",
    "print(\"(1 0) = \", cell1 ) ;\n",
    "print(\"(2 0) = \", cell2 ) ;\n",
    "\n",
    "#--------------------------------\n",
    "\n",
    "print(\"\\n(0 0) = \", cell.value ) ;  \n",
    "print(\"(1 0) = \", cell1.value ) ;\n",
    "print(\"(2 0) = \", cell2.value ) ;\n"
   ]
  },
  {
   "cell_type": "markdown",
   "metadata": {},
   "source": [
    "##### Row span printing"
   ]
  },
  {
   "cell_type": "code",
   "execution_count": 6,
   "metadata": {
    "collapsed": false
   },
   "outputs": [
    {
     "name": "stdout",
     "output_type": "stream",
     "text": [
      "[number:5.0, number:6.0, number:7.0]\n",
      "5.0\n",
      "6.0\n",
      "7.0\n"
     ]
    }
   ],
   "source": [
    "print(first_sheet.row_slice(rowx=43,start_colx=4,end_colx=7))\n",
    "list = first_sheet.row_slice(rowx=43,start_colx=4,end_colx=7)\n",
    "for i in list :\n",
    "    print(i.value)"
   ]
  },
  {
   "cell_type": "markdown",
   "metadata": {},
   "source": [
    "##### getting number of row and column"
   ]
  },
  {
   "cell_type": "code",
   "execution_count": 7,
   "metadata": {
    "collapsed": false
   },
   "outputs": [
    {
     "name": "stdout",
     "output_type": "stream",
     "text": [
      "X\tY\t\t\t\t\t\t\t\t\t\t\t\t\n",
      "6.2\t29.0\t\t\t\t\t\t\t\t\t\t\t\t\n",
      "9.5\t44.0\t\t\t\t\t\t\t\t\t\t\t\t\n",
      "10.5\t36.0\t\t\t\t\t\t\t\t\t\t\t\t\n",
      "7.7\t37.0\t\t\t\t\t\t\t\t\t\t\t\t\n",
      "8.6\t53.0\t\t\t\t\t\t\t\t\t\t\t\t\n",
      "34.1\t68.0\t\t\t\t\t\t\t\t\t\t\t\t\n",
      "11.0\t75.0\t\t\t\t\t\t\t\t\t\t\t\t\n",
      "6.9\t18.0\t\t\t\t\t\t\t\t\t\t\t\t\n",
      "7.3\t31.0\t\t\t\t\t\t\t\t\t\t\t\t\n",
      "15.1\t25.0\t\t\t\t\t\t\t\t\t\t\t\t\n",
      "29.1\t34.0\t\t\t\t\t\t\t\t\t\t\t\t\n",
      "2.2\t14.0\t\t\t\t\t\t\t\t\t\t\t\t\n",
      "5.7\t11.0\t\t\t\t\t\t\t\t\t\t\t\t\n",
      "2.0\t11.0\t\t\t\t\t\t\t\t\t\t\t\t\n",
      "2.5\t22.0\t\t\t\t\t\t\t\t\t\t\t\t\n",
      "4.0\t16.0\t\t\t\t\t\t\t\t\t\t\t\t\n",
      "5.4\t27.0\t\t\t\t\t\t\t\t\t\t\t\t\n",
      "2.2\t9.0\t\t\t\t\t\t\t\t\t\t\t\t\n",
      "7.2\t29.0\t\t\t\t\t\t\t\t\t\t\t\t\n",
      "15.1\t30.0\t\t\t\t\t\t\t\t\t\t\t\t\n",
      "16.5\t40.0\t\t\t\t\t\t\t\t\t\t\t\t\n",
      "18.4\t32.0\t\t\t\t\t\t\t\t\t\t\t\t\n",
      "36.2\t41.0\t\t\t\t\t\t\t\t\t\t\t\t\n",
      "39.7\t147.0\t\t\t\t\t\t\t\t\t\t\t\t\n",
      "18.5\t22.0\t\t\t\t\t\t\t\t\t\t\t\t\n",
      "23.3\t29.0\t\t\t\t\t\t\t\t\t\t\t\t\n",
      "12.2\t46.0\t\t\t\t\t\t\t\t\t\t\t\t\n",
      "5.6\t23.0\t\t\t\t\t\t\t\t\t\t\t\t\n",
      "21.8\t4.0\t\t\t\t\t\t\t\t\t\t\t\t\n",
      "21.6\t31.0\t\t\t\t\t\t\t\t\t\t\t\t\n",
      "9.0\t39.0\t\t\t\t\t\t\t\t\t\t\t\t\n",
      "3.6\t15.0\t\t\t\t\t\t\t\t\t\t\t\t\n",
      "5.0\t32.0\t\t\t\t\t\t\t\t\t\t\t\t\n",
      "28.6\t27.0\t\t\t\t\t\t\t\t\t\t\t\t\n",
      "17.4\t32.0\t\t\t\t\t\t\t\t\t\t\t\t\n",
      "11.3\t34.0\t\t\t\t\t\t\t\t\t\t\t\t\n",
      "3.4\t17.0\t\t\t\t\t\t\t\t\t\t\t\t\n",
      "11.9\t46.0\t\t\t\t\t\t\t\t\t\t\t\t\n",
      "10.5\t42.0\t\t\t\t\t\t\t\t\t\t\t\t\n",
      "10.7\t43.0\t\t\t\t\t\t\t\t\t\t\t\t\n",
      "10.8\t34.0\t\t\t\t\t\t\t\t\t\t\t\t\n",
      "4.8\t19.0\t\t\t\t\t\t\t\t\t\t\t\t\n",
      "1.0\t2.0\t3.0\t4.0\t5.0\t6.0\t7.0\t8.0\t9.0\t10.0\t11.0\t12.0\t13.0\t\n"
     ]
    }
   ],
   "source": [
    "r = first_sheet.nrows\n",
    "c = first_sheet.ncols\n",
    "\n",
    "for i  in range(r):\n",
    "    for j in range(c):\n",
    "        val = first_sheet.cell(i,j)\n",
    "        print(val.value,end=\"\\t\")\n",
    "    print(\"\")\n"
   ]
  },
  {
   "cell_type": "markdown",
   "metadata": {},
   "source": [
    "##### Another for loop"
   ]
  },
  {
   "cell_type": "code",
   "execution_count": 8,
   "metadata": {
    "collapsed": false
   },
   "outputs": [
    {
     "name": "stdout",
     "output_type": "stream",
     "text": [
      "X\tY\t\t\t\t\t\t\t\t\t\t\t\t\n",
      "6.2\t29.0\t\t\t\t\t\t\t\t\t\t\t\t\n",
      "9.5\t44.0\t\t\t\t\t\t\t\t\t\t\t\t\n",
      "10.5\t36.0\t\t\t\t\t\t\t\t\t\t\t\t\n",
      "7.7\t37.0\t\t\t\t\t\t\t\t\t\t\t\t\n",
      "8.6\t53.0\t\t\t\t\t\t\t\t\t\t\t\t\n",
      "34.1\t68.0\t\t\t\t\t\t\t\t\t\t\t\t\n",
      "11.0\t75.0\t\t\t\t\t\t\t\t\t\t\t\t\n",
      "6.9\t18.0\t\t\t\t\t\t\t\t\t\t\t\t\n",
      "7.3\t31.0\t\t\t\t\t\t\t\t\t\t\t\t\n",
      "15.1\t25.0\t\t\t\t\t\t\t\t\t\t\t\t\n",
      "29.1\t34.0\t\t\t\t\t\t\t\t\t\t\t\t\n",
      "2.2\t14.0\t\t\t\t\t\t\t\t\t\t\t\t\n",
      "5.7\t11.0\t\t\t\t\t\t\t\t\t\t\t\t\n",
      "2.0\t11.0\t\t\t\t\t\t\t\t\t\t\t\t\n",
      "2.5\t22.0\t\t\t\t\t\t\t\t\t\t\t\t\n",
      "4.0\t16.0\t\t\t\t\t\t\t\t\t\t\t\t\n",
      "5.4\t27.0\t\t\t\t\t\t\t\t\t\t\t\t\n",
      "2.2\t9.0\t\t\t\t\t\t\t\t\t\t\t\t\n",
      "7.2\t29.0\t\t\t\t\t\t\t\t\t\t\t\t\n",
      "15.1\t30.0\t\t\t\t\t\t\t\t\t\t\t\t\n",
      "16.5\t40.0\t\t\t\t\t\t\t\t\t\t\t\t\n",
      "18.4\t32.0\t\t\t\t\t\t\t\t\t\t\t\t\n",
      "36.2\t41.0\t\t\t\t\t\t\t\t\t\t\t\t\n",
      "39.7\t147.0\t\t\t\t\t\t\t\t\t\t\t\t\n",
      "18.5\t22.0\t\t\t\t\t\t\t\t\t\t\t\t\n",
      "23.3\t29.0\t\t\t\t\t\t\t\t\t\t\t\t\n",
      "12.2\t46.0\t\t\t\t\t\t\t\t\t\t\t\t\n",
      "5.6\t23.0\t\t\t\t\t\t\t\t\t\t\t\t\n",
      "21.8\t4.0\t\t\t\t\t\t\t\t\t\t\t\t\n",
      "21.6\t31.0\t\t\t\t\t\t\t\t\t\t\t\t\n",
      "9.0\t39.0\t\t\t\t\t\t\t\t\t\t\t\t\n",
      "3.6\t15.0\t\t\t\t\t\t\t\t\t\t\t\t\n",
      "5.0\t32.0\t\t\t\t\t\t\t\t\t\t\t\t\n",
      "28.6\t27.0\t\t\t\t\t\t\t\t\t\t\t\t\n",
      "17.4\t32.0\t\t\t\t\t\t\t\t\t\t\t\t\n",
      "11.3\t34.0\t\t\t\t\t\t\t\t\t\t\t\t\n",
      "3.4\t17.0\t\t\t\t\t\t\t\t\t\t\t\t\n",
      "11.9\t46.0\t\t\t\t\t\t\t\t\t\t\t\t\n",
      "10.5\t42.0\t\t\t\t\t\t\t\t\t\t\t\t\n",
      "10.7\t43.0\t\t\t\t\t\t\t\t\t\t\t\t\n",
      "10.8\t34.0\t\t\t\t\t\t\t\t\t\t\t\t\n",
      "4.8\t19.0\t\t\t\t\t\t\t\t\t\t\t\t\n",
      "1.0\t2.0\t3.0\t4.0\t5.0\t6.0\t7.0\t8.0\t9.0\t10.0\t11.0\t12.0\t13.0\t\n"
     ]
    }
   ],
   "source": [
    "for i in range(first_sheet.nrows):\n",
    "    List = first_sheet.row(i)\n",
    "    for j in List: \n",
    "        print(j.value,end='\\t')\n",
    "    print()"
   ]
  },
  {
   "cell_type": "markdown",
   "metadata": {},
   "source": [
    "### In a brief all the functions and variable"
   ]
  },
  {
   "cell_type": "markdown",
   "metadata": {},
   "source": [
    " excel <br />\n",
    " |<br />\n",
    " book  <br />\n",
    "&nbsp;&nbsp;&nbsp;&nbsp;&nbsp;    |__sheet\n",
    "\n",
    "#### function under book\n",
    "* book = xlrd.open_workbook()\n",
    "* book.sheet_names() -> returns array of cell\n",
    "* book.sheet_by_index()\n",
    "* book.sheet_by_name()\n",
    "\n",
    "#### variable under book\n",
    "\n",
    "* book.nsheets\n",
    "\n",
    "#### function under sheet\n",
    "* sheet.cell()\n",
    "* sheet.row_slice()  -> return array of cell\n",
    "* sheet.row()\n",
    "\n",
    "#### variable under sheet\n",
    "\n",
    "* sheet.nrows\n",
    "* sheet.ncols\n",
    "* sheet.cell().value\n",
    "\n",
    "\n"
   ]
  },
  {
   "cell_type": "markdown",
   "metadata": {},
   "source": [
    "https://blogs.harvard.edu/rprasad/2014/06/16/reading-excel-with-python-xlrd/"
   ]
  },
  {
   "cell_type": "code",
   "execution_count": 9,
   "metadata": {
    "collapsed": false
   },
   "outputs": [
    {
     "data": {
      "application/javascript": [
       "\n",
       "Jupyter.keyboard_manager.command_shortcuts.add_shortcut('r', {\n",
       "    help : 'run all cells',\n",
       "    help_index : 'zz',\n",
       "    handler : function (event) {\n",
       "        IPython.notebook.kernel.restart();\n",
       "        IPython.notebook.execute_all_cells();\n",
       "        return false;\n",
       "    }}\n",
       ");"
      ],
      "text/plain": [
       "<IPython.core.display.Javascript object>"
      ]
     },
     "metadata": {},
     "output_type": "display_data"
    }
   ],
   "source": [
    "%%javascript\n",
    "\n",
    "Jupyter.keyboard_manager.command_shortcuts.add_shortcut('r', {\n",
    "    help : 'run all cells',\n",
    "    help_index : 'zz',\n",
    "    handler : function (event) {\n",
    "        IPython.notebook.kernel.restart();\n",
    "        IPython.notebook.execute_all_cells();\n",
    "        return false;\n",
    "    }}\n",
    ");"
   ]
  },
  {
   "cell_type": "code",
   "execution_count": null,
   "metadata": {
    "collapsed": true
   },
   "outputs": [],
   "source": []
  }
 ],
 "metadata": {
  "kernelspec": {
   "display_name": "Python 3",
   "language": "python",
   "name": "python3"
  },
  "language_info": {
   "codemirror_mode": {
    "name": "ipython",
    "version": 3
   },
   "file_extension": ".py",
   "mimetype": "text/x-python",
   "name": "python",
   "nbconvert_exporter": "python",
   "pygments_lexer": "ipython3",
   "version": "3.6.0"
  }
 },
 "nbformat": 4,
 "nbformat_minor": 2
}
